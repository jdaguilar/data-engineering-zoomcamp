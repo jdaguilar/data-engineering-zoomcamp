{
 "cells": [
  {
   "attachments": {},
   "cell_type": "markdown",
   "metadata": {},
   "source": [
    "## Week 3 Homework\n",
    "<b><u>Important Note:</b></u> <p>You can load the data however you would like, but keep the files in .GZ Format. \n",
    "If you are using orchestration such as Airflow or Prefect do not load the data into Big Query using the orchestrator.</br> \n",
    "Stop with loading the files into a bucket. </br></br>\n",
    "<u>NOTE:</u> You can use the CSV option for the GZ files when creating an External Table</br>\n",
    "\n",
    "<b>SETUP:</b></br>\n",
    "Create an external table using the fhv 2019 data. </br>\n",
    "Create a table in BQ using the fhv 2019 data (do not partition or cluster this table). </br>\n",
    "Data can be found here: https://github.com/DataTalksClub/nyc-tlc-data/releases/tag/fhv </p>"
   ]
  },
  {
   "attachments": {},
   "cell_type": "markdown",
   "metadata": {},
   "source": [
    "## Question 1:\n",
    "What is the count for fhv vehicle records for year 2019?\n",
    "- 65,623,481\n",
    "- 43,244,696\n",
    "- 22,978,333\n",
    "- 13,942,414\n",
    "\n",
    "R: 43,244,696"
   ]
  },
  {
   "attachments": {},
   "cell_type": "markdown",
   "metadata": {},
   "source": [
    "## Question 2:\n",
    "Write a query to count the distinct number of affiliated_base_number for the entire dataset on both the tables.</br> \n",
    "What is the estimated amount of data that will be read when this query is executed on the External Table and the Table?\n",
    "\n",
    "- 25.2 MB for the External Table and 100.87MB for the BQ Table\n",
    "- 225.82 MB for the External Table and 47.60MB for the BQ Table\n",
    "- 0 MB for the External Table and 0MB for the BQ Table\n",
    "- 0 MB for the External Table and 317.94MB for the BQ Table\n",
    "\n",
    "R: 0 MB for the External Table and 317.94MB for the BQ Table"
   ]
  },
  {
   "attachments": {},
   "cell_type": "markdown",
   "metadata": {},
   "source": [
    "## Question 3:\n",
    "How many records have both a blank (null) PUlocationID and DOlocationID in the entire dataset?\n",
    "- 717,748\n",
    "- 1,215,687\n",
    "- 5\n",
    "- 20,332\n",
    "\n",
    "R: 717,748"
   ]
  },
  {
   "attachments": {},
   "cell_type": "markdown",
   "metadata": {},
   "source": [
    "## Question 4:\n",
    "What is the best strategy to optimize the table if query always filter by pickup_datetime and order by affiliated_base_number?\n",
    "- Cluster on pickup_datetime Cluster on affiliated_base_number\n",
    "- Partition by pickup_datetime Cluster on affiliated_base_number\n",
    "- Partition by pickup_datetime Partition by affiliated_base_number\n",
    "- Partition by affiliated_base_number Cluster on pickup_datetime\n",
    "\n",
    "R: Partition by pickup_datetime Cluster on affiliated_base_number"
   ]
  },
  {
   "attachments": {},
   "cell_type": "markdown",
   "metadata": {},
   "source": [
    "## Question 5:\n",
    "Implement the optimized solution you chose for question 4. Write a query to retrieve the distinct affiliated_base_number between pickup_datetime 2019/03/01 and 2019/03/31 (inclusive).</br> \n",
    "Use the BQ table you created earlier in your from clause and note the estimated bytes. Now change the table in the from clause to the partitioned table you created for question 4 and note the estimated bytes processed. What are these values? Choose the answer which most closely matches.\n",
    "- 12.82 MB for non-partitioned table and 647.87 MB for the partitioned table\n",
    "- 647.87 MB for non-partitioned table and 23.06 MB for the partitioned table\n",
    "- 582.63 MB for non-partitioned table and 0 MB for the partitioned table\n",
    "- 646.25 MB for non-partitioned table and 646.25 MB for the partitioned table\n",
    "\n",
    "R: 647.87 MB for non-partitioned table and 23.06 MB for the partitioned table\n"
   ]
  },
  {
   "attachments": {},
   "cell_type": "markdown",
   "metadata": {},
   "source": [
    "## Question 6: \n",
    "Where is the data stored in the External Table you created?\n",
    "\n",
    "- Big Query\n",
    "- GCP Bucket\n",
    "- Container Registry\n",
    "- Big Table\n",
    "\n",
    "R: GCP Bucket"
   ]
  },
  {
   "attachments": {},
   "cell_type": "markdown",
   "metadata": {},
   "source": [
    "## Question 7:\n",
    "It is best practice in Big Query to always cluster your data:\n",
    "- True\n",
    "- False\n",
    "\n",
    "R: False"
   ]
  },
  {
   "attachments": {},
   "cell_type": "markdown",
   "metadata": {},
   "source": [
    "## (Not required) Question 8:\n",
    "A better format to store these files may be parquet. Create a data pipeline to download the gzip files and convert them into parquet. Upload the files to your GCP Bucket and create an External and BQ Table. \n",
    "\n",
    "\n",
    "Note: Column types for all files used in an External Table must have the same datatype. While an External Table may be created and shown in the side panel in Big Query, this will need to be validated by running a count query on the External Table to check if any errors occur. "
   ]
  },
  {
   "attachments": {},
   "cell_type": "markdown",
   "metadata": {},
   "source": [
    "\n",
    "## Submitting the solutions\n",
    "\n",
    "* Form for submitting: https://forms.gle/rLdvQW2igsAT73HTA\n",
    "* You can submit your homework multiple times. In this case, only the last submission will be used. \n",
    "\n",
    "Deadline: 13 February (Monday), 22:00 CET\n",
    "\n",
    "\n",
    "## Solution\n",
    "\n",
    "We will publish the solution here\n"
   ]
  }
 ],
 "metadata": {
  "kernelspec": {
   "display_name": "Python 3",
   "language": "python",
   "name": "python3"
  },
  "language_info": {
   "name": "python",
   "version": "3.8.10"
  },
  "orig_nbformat": 4,
  "vscode": {
   "interpreter": {
    "hash": "e7370f93d1d0cde622a1f8e1c04877d8463912d04d973331ad4851f04de6915a"
   }
  }
 },
 "nbformat": 4,
 "nbformat_minor": 2
}
