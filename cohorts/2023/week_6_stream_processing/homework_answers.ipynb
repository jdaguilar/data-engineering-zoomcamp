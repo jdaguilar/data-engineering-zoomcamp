{
 "cells": [
  {
   "attachments": {},
   "cell_type": "markdown",
   "metadata": {},
   "source": [
    "## Week 6 Homework \n",
    "\n",
    "In this homework, there will be two sections, the first session focus on theoretical questions related to Kafka \n",
    "and streaming concepts and the second session asks to create a small streaming application using preferred \n",
    "programming language (Python or Java).\n"
   ]
  },
  {
   "attachments": {},
   "cell_type": "markdown",
   "metadata": {},
   "source": [
    "\n",
    "### Question 1: \n",
    "\n",
    "**Please select the statements that are correct**\n",
    "\n",
    "- Kafka Node is responsible to store topics (True)\n",
    "- Zookeeper is removed from Kafka cluster starting from version 4.0 (True)\n",
    "- Retention configuration ensures the messages not get lost over specific period of time (True)\n",
    "- Group-Id ensures the messages are distributed to associated consumers\n"
   ]
  },
  {
   "attachments": {},
   "cell_type": "markdown",
   "metadata": {},
   "source": [
    "\n",
    "### Question 2: \n",
    "\n",
    "**Please select the Kafka concepts that support reliability and availability**\n",
    "\n",
    "- Topic Replication (True)\n",
    "- Topic Partitioning (True)\n",
    "- Consumer Group Id (True)\n",
    "- Ack All"
   ]
  },
  {
   "attachments": {},
   "cell_type": "markdown",
   "metadata": {},
   "source": [
    "### Question 3: \n",
    "\n",
    "**Please select the Kafka concepts that support scaling**  \n",
    "\n",
    "- Topic Replication\n",
    "- Topic Partitioning (True)\n",
    "- Consumer Group Id (True)\n",
    "- Ack All\n",
    "\n"
   ]
  },
  {
   "attachments": {},
   "cell_type": "markdown",
   "metadata": {},
   "source": [
    "### Question 4: \n",
    "\n",
    "**Please select the attributes that are good candidates for partitioning key. \n",
    "Consider cardinality of the field you have selected and scaling aspects of your application**  \n",
    "\n",
    "- payment_type\n",
    "- vendor_id (True)\n",
    "- passenger_count\n",
    "- total_amount\n",
    "- tpep_pickup_datetime (True)\n",
    "- tpep_dropoff_datetime"
   ]
  },
  {
   "attachments": {},
   "cell_type": "markdown",
   "metadata": {},
   "source": [
    "### Question 5: \n",
    "\n",
    "**Which configurations below should be provided for Kafka Consumer but not needed for Kafka Producer**\n",
    "\n",
    "- Deserializer Configuration (True)\n",
    "- Topics Subscription (True)\n",
    "- Bootstrap Server\n",
    "- Group-Id (True)\n",
    "- Offset (True)\n",
    "- Cluster Key and Cluster-Secret"
   ]
  },
  {
   "attachments": {},
   "cell_type": "markdown",
   "metadata": {},
   "source": [
    "### Question 6:\n",
    "\n",
    "Please implement a streaming application, for finding out popularity of PUlocationID across green and fhv trip datasets.\n",
    "Please use the datasets [fhv_tripdata_2019-01.csv.gz](https://github.com/DataTalksClub/nyc-tlc-data/releases/tag/fhv) \n",
    "and [green_tripdata_2019-01.csv.gz](https://github.com/DataTalksClub/nyc-tlc-data/releases/tag/green)\n",
    "\n",
    "PS: If you encounter memory related issue, you can use the smaller portion of these two datasets as well, \n",
    "it is not necessary to find exact number in the  question.\n",
    "\n",
    "Your code should include following\n",
    "1. Producer that reads csv files and publish rides in corresponding kafka topics (such as rides_green, rides_fhv)\n",
    "2. Pyspark-streaming-application that reads two kafka topics\n",
    "   and writes both of them in topic rides_all and apply aggregations to find most popular pickup location.\n"
   ]
  },
  {
   "cell_type": "markdown",
   "metadata": {},
   "source": [
    "## Submitting the solutions\n",
    "\n",
    "* Form for submitting: https://forms.gle/rK7268U92mHJBpmW7\n",
    "* You can submit your homework multiple times. In this case, only the last submission will be used. \n",
    "\n",
    "Deadline: 13 March (Monday), 22:00 CET\n",
    "\n",
    "\n",
    "## Solution\n",
    "\n",
    "We will publish the solution here after deadline\n"
   ]
  }
 ],
 "metadata": {
  "language_info": {
   "name": "python"
  },
  "orig_nbformat": 4
 },
 "nbformat": 4,
 "nbformat_minor": 2
}
